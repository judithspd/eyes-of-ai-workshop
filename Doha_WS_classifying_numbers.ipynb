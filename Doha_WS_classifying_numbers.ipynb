{
  "cells": [
    {
      "cell_type": "markdown",
      "source": [
        "# Setting up the environment\n",
        "We will import keras, the API that acts as a higher level on top on libraries like TensorFlow.\n",
        "\n",
        "To improve the training performance, we will use a GPU in google colab. To do so, click on Connect (Top-right) and then \"Change runtime type\" to T4 GPU."
      ],
      "metadata": {
        "id": "m_7kc3l7Byor"
      }
    },
    {
      "cell_type": "code",
      "execution_count": null,
      "metadata": {
        "id": "hN8ebivPtMEs"
      },
      "outputs": [],
      "source": [
        "import keras\n",
        "keras.__version__"
      ]
    },
    {
      "cell_type": "markdown",
      "source": [
        "# Introduction to ConvNets: Classifying handwritten numbers\n",
        "\n",
        "\n",
        "Let's take a look at a simple example of a convnet. We will use it to classify the MNIST dataset (Modified National Institute of Standards and Technology database), which is an open dataset containing handwritten numbers. The MNIST dataset consists of 70,000 grayscale images of handwritten digits (0-9).\n",
        "\n",
        "![Handwritten numbers from the MNIST dataset](https://corochann.com/wp-content/uploads/2021/09/mnist_plot.png)\n",
        "\n",
        "We are now going to train our network with the images from the MNIST dataset.\n",
        "\n",
        "We then load the dataset and put it into vectors: train_images, train_labels, test_images, test_labels\n",
        "\n",
        "Before you continue to design the network, print:\n",
        "\n",
        "- What is the size of the training dataset?\n",
        "- What does the training dataset look like? Print the distribution of images in each category.\n",
        "- What do the training labels look like? List them.\n",
        "- Print the first four images of the training dataset"
      ],
      "metadata": {
        "id": "7ESHJ71QzYF8"
      }
    },
    {
      "cell_type": "code",
      "source": [
        "from keras.datasets import mnist\n",
        "from keras.utils import to_categorical\n",
        "\n",
        "(train_images, train_labels), (test_images, test_labels) = mnist.load_data()"
      ],
      "metadata": {
        "id": "RHCurXWKzc2a"
      },
      "execution_count": null,
      "outputs": []
    },
    {
      "cell_type": "markdown",
      "metadata": {
        "collapsed": true,
        "id": "F8dtb8U_tMEv"
      },
      "source": [
        "## Network architecture\n",
        "Our network will be desing with different parts that we will detail. You can see a draft in the next picture (MORE OR LESS what we will define):\n",
        "\n",
        "![Architecture](https://i.ibb.co/tL8HSPb/2025-01-16-13-45.png)\n",
        "\n",
        "Let's create a first basic convnet. It's a stack of 'Conv2D' and 'MaxPooling2D' layers.\n",
        "The important thing to note is that a convnet takes as input tensors of size `(image_height, image_width, image_channels)`.\n",
        "To do this we must first find out the size of the images in our dataset.\n",
        "\n",
        "### **Convolutional Layer (Conv2D)**\n",
        "- **Purpose:** Detects features like edges and textures by applying filters to the input.\n",
        "- **Key Parameters:**\n",
        "  - `filters`: Number of filters (feature detectors).\n",
        "  - `kernel_size`: Size of the filter (commonly (3,3)).\n",
        "  - `activation`: Non-linear function to introduce complexity (commonly ReLU).\n",
        "\n",
        "```python\n",
        "model.add(layers.Conv2D(filters???, kernel_size???, activation='', input_shape=input_shape))\n",
        "```\n",
        "\n",
        "\n",
        "## **Pooling Layer (MaxPooling2D)**\n",
        "- **Purpose:** Reduces the spatial size of the feature maps, decreasing computation and preventing overfitting.\n",
        "- **Key Parameters:**\n",
        "  - `pool_size`: The size of the window to take the maximum value.\n",
        "\n",
        "```python\n",
        "model.add(layers.MaxPooling2D(pool_size=????))\n",
        "```\n",
        "\n",
        "## **Flatten Layer**\n",
        "- **Purpose:** Converts 2D matrices into a 1D vector to feed into the dense layer.\n",
        "\n",
        "```python\n",
        "model.add(layers.????)\n",
        "```\n",
        "\n",
        "## **Dense (Fully Connected) Layer**\n",
        "- **Purpose:** Performs classification based on the features extracted by convolutional and pooling layers.\n",
        "- **Key Parameters:**\n",
        "  - `units`: Number of neurons.\n",
        "  - `activation`: Activation function (commonly ReLU for hidden layers, Softmax for output).\n",
        "\n",
        "```python\n",
        "model.add(layers.Dense(units=???, activation=''))  # Hidden layer\n",
        "model.add(layers.Dense(units=???how many classes???, activation=''))\n",
        "```\n",
        "\n",
        "\n",
        "## **Activation Functions**\n",
        "- **ReLU (Rectified Linear Unit):** Common for hidden layers, it speeds up training and reduces the risk of vanishing gradients.\n",
        "- **Softmax:** Used in the output layer for multi-class classification, converting outputs into probabilities.\n",
        "\n",
        "\n",
        "## **Loss Function**\n",
        "- **Purpose:** Measures how well the model's predictions match the true labels.\n",
        "\n",
        "\n",
        "```python\n",
        "model.compile(loss='???')\n",
        "```\n",
        "\n",
        "## **Optimizer**\n",
        "- **Purpose:** Updates the network's weights to minimize the loss function.\n",
        "\n",
        "```python\n",
        "model.compile(optimizer='???')\n",
        "```\n",
        "\n",
        "🔧 **Adjustable Parameters:**\n",
        "- Adjust learning rate: `optimizer=???(learning_rate=0.001)`\n",
        "\n",
        "## **Model Training**\n",
        "- **Purpose:** Teach the model to recognize digits.\n",
        "\n",
        "```python\n",
        "model.fit(x_train_data, y_train_data, epochs=????, batch_size=???, validation_split=???)\n",
        "```\n",
        "\n",
        "🔧 **Adjustable Parameters:**\n",
        "- Increase `epochs` to allow more training cycles.\n",
        "- Change `batch_size` for different update frequencies.\n",
        "\n",
        "---\n",
        "\n",
        "\n",
        "The network must have the following layers:\n",
        "\n",
        "- A convolutional layer (Conv2D) with 32 3x3 filters and relu activation. In this first layer you must indicate the size of the input (input_shape).\n",
        "- A second layer of Max Pooling (MaxPooling2D) of 2x2\n",
        "- A third convolutional layer with 64 3x3 filters and relu activation\n",
        "- A fourth layer of 2x2 Max Pooling (MaxPooling2D)\n",
        "- A fifth convolutional layer of 64 3x3 filters and relu activation\n",
        "\n",
        "\n",
        "You'll know you've done it right when the model.summary() output is:\n",
        "\n",
        "![imagen_output.png](https://github.com/laramaktub/MachineLearningI/blob/master/imagen_output.png?raw=true)\n"
      ]
    },
    {
      "cell_type": "code",
      "execution_count": null,
      "metadata": {
        "id": "ParMlAxctMEz"
      },
      "outputs": [],
      "source": [
        "from keras import layers\n",
        "from keras import models\n",
        "\n",
        "input_shape = ()\n",
        "\n",
        "model = models.Sequential()\n",
        "model.add(layers.Conv2D(, , activation='', input_shape=input_shape))\n",
        "model.add..."
      ]
    },
    {
      "cell_type": "markdown",
      "metadata": {
        "collapsed": true,
        "id": "e9OhTCZYtME0"
      },
      "source": [
        "You can see above that the output of each Conv2D and MaxPooling2D layer is a 3D tensor of dimensions (height, width, channels). The width and height tend to decrease as we go deeper into the network. The number of channels is controlled by the first argument passed to the Conv2D layers (e.g. 32 or 64), it means, the number of applied filters.\n",
        "\n",
        "The next step would be to give our last tensor (of dimensions (3, 3, 64)) as input to a densely connected network. These classifiers process vectors, which are 1D, while our output is a 3D tensor. So first we will have to flatten our 3D output and convert it to 1D and then add a few dense layers:\n",
        "\n",
        "- Add a first layer of 64 neurons\n",
        "- Add a last layer of 10 neurons (as many as you can sort) and softmax activation\n",
        "- You'll know you've done well when the summary looks like this:\n",
        "\n",
        "![imagen_output_flat.png](https://github.com/laramaktub/MachineLearningI/blob/master/imagen_output_flat.png?raw=true)"
      ]
    },
    {
      "cell_type": "code",
      "execution_count": null,
      "metadata": {
        "id": "XAhTPmrytME0"
      },
      "outputs": [],
      "source": [
        "model.add(layers...)\n"
      ]
    },
    {
      "cell_type": "markdown",
      "metadata": {
        "id": "vhcLiHSTtME0"
      },
      "source": [
        "As you can see, our dimensional output `(3, 3, 64)` has been flattened into a vector of dimension `(576,)`, before entering the two dense layers.\n",
        "\n",
        "We are now going to train our network with the images from the MNIST dataset.\n",
        "\n",
        "Remember that we loaded the dataset and put it into vectors: train_images, train_labels, test_images, test_labels\n",
        "\n",
        "Next you will give the appropriate shape to the training and test datasets in order to put them into the neural network. Convert the labels, which right now are numbers, into their categorical form. Check the keras utils manual.\n"
      ]
    },
    {
      "cell_type": "code",
      "execution_count": null,
      "metadata": {
        "id": "MMxMSs7NtME1"
      },
      "outputs": [],
      "source": [
        "train_images = train_images.reshape((60000, 28, 28, 1))\n",
        "train_images = train_images.astype('float32') / 255\n",
        "\n",
        "test_images = test_images.reshape((10000, 28, 28, 1))\n",
        "test_images = test_images.astype('float32') / 255\n",
        "\n",
        "train_labels =\n",
        "test_labels =\n",
        "\n"
      ]
    },
    {
      "cell_type": "markdown",
      "metadata": {
        "id": "RtJ0Izb5tME1"
      },
      "source": [
        "Compile the model indicating what the training data and its labels are. Using the optimizer \"rmsprop\" and as a loss function use the categorical cross entropy.\n",
        "Then train the model for 5 epochs and a batch size of 64."
      ]
    },
    {
      "cell_type": "code",
      "execution_count": null,
      "metadata": {
        "id": "SUsfObhytME2"
      },
      "outputs": [],
      "source": [
        "model.compile( , , metrics=['accuracy'])\n",
        "model.fit(, , , )"
      ]
    },
    {
      "cell_type": "markdown",
      "metadata": {
        "id": "EfkWv2ektME2"
      },
      "source": [
        "Let's evaluate the model with the test images:"
      ]
    },
    {
      "cell_type": "code",
      "execution_count": null,
      "metadata": {
        "id": "4TJ-L2ITtME2"
      },
      "outputs": [],
      "source": [
        "test_loss, test_acc = model.evaluate(,)"
      ]
    },
    {
      "cell_type": "markdown",
      "metadata": {
        "id": "mBJqZCd-tME3"
      },
      "source": [
        "Create an image with a your own handwritting number and check the prediction."
      ]
    },
    {
      "cell_type": "code",
      "execution_count": null,
      "metadata": {
        "id": "YrBpznnatME3"
      },
      "outputs": [],
      "source": [
        "import tensorflow as tf\n",
        "from tensorflow.keras.preprocessing import image\n",
        "import numpy as np\n",
        "import matplotlib.pyplot as plt\n",
        "\n",
        "img_width = 28\n",
        "img_height = 28\n",
        "\n",
        "# Cargar la imagen con TensorFlow (use the image generated by you)\n",
        "img = tf.keras.preprocessing.image.load_img('siete.jpg', target_size=(img_width, img_height), color_mode=\"grayscale\")\n",
        "# Convertir la imagen a un array numpy\n",
        "x = tf.keras.preprocessing.image.img_to_array(img)\n",
        "# Expandir las dimensiones para que tenga la forma (1, img_width, img_height, 1)\n",
        "x = np.expand_dims(x, axis=0)\n",
        "\n",
        "# Mostrar la imagen\n",
        "plt.imshow(x[0, :, :, 0], cmap='gray')\n",
        "plt.axis('off')  # Desactivar los ejes\n",
        "plt.show()\n"
      ]
    },
    {
      "cell_type": "code",
      "execution_count": null,
      "metadata": {
        "id": "DIHyyvP3tME3"
      },
      "outputs": [],
      "source": [
        "model.save('net_numbers.h5')"
      ]
    },
    {
      "cell_type": "markdown",
      "metadata": {
        "id": "lfucYIOWtME3"
      },
      "source": [
        "Load the model that you just saved and make a prediction with the number you just generated. Try with several numbers ...does it work properly? Explain why do you think this happens.\n"
      ]
    },
    {
      "cell_type": "code",
      "execution_count": null,
      "metadata": {
        "id": "piQ-OnNmtME3"
      },
      "outputs": [],
      "source": []
    }
  ],
  "metadata": {
    "kernelspec": {
      "display_name": "Python 3",
      "language": "python",
      "name": "python3"
    },
    "language_info": {
      "codemirror_mode": {
        "name": "ipython",
        "version": 3
      },
      "file_extension": ".py",
      "mimetype": "text/x-python",
      "name": "python",
      "nbconvert_exporter": "python",
      "pygments_lexer": "ipython3",
      "version": "3.6.6"
    },
    "colab": {
      "provenance": []
    }
  },
  "nbformat": 4,
  "nbformat_minor": 0
}
